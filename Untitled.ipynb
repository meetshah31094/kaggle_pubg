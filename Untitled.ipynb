{
 "cells": [
  {
   "cell_type": "code",
   "execution_count": 8,
   "metadata": {
    "collapsed": true
   },
   "outputs": [],
   "source": [
    "import pandas as pd\n",
    "import matplotlib.pyplot as plt"
   ]
  },
  {
   "cell_type": "code",
   "execution_count": 34,
   "metadata": {
    "collapsed": false
   },
   "outputs": [],
   "source": [
    "train_df=pd.read_csv('D:/Kaggle/pubg/all/train_sample.csv')"
   ]
  },
  {
   "cell_type": "code",
   "execution_count": 3,
   "metadata": {
    "collapsed": false
   },
   "outputs": [
    {
     "data": {
      "text/html": [
       "<div>\n",
       "<table border=\"1\" class=\"dataframe\">\n",
       "  <thead>\n",
       "    <tr style=\"text-align: right;\">\n",
       "      <th></th>\n",
       "      <th>Id</th>\n",
       "      <th>groupId</th>\n",
       "      <th>matchId</th>\n",
       "      <th>assists</th>\n",
       "      <th>boosts</th>\n",
       "      <th>damageDealt</th>\n",
       "      <th>DBNOs</th>\n",
       "      <th>headshotKills</th>\n",
       "      <th>heals</th>\n",
       "      <th>killPlace</th>\n",
       "      <th>...</th>\n",
       "      <th>revives</th>\n",
       "      <th>rideDistance</th>\n",
       "      <th>roadKills</th>\n",
       "      <th>swimDistance</th>\n",
       "      <th>teamKills</th>\n",
       "      <th>vehicleDestroys</th>\n",
       "      <th>walkDistance</th>\n",
       "      <th>weaponsAcquired</th>\n",
       "      <th>winPoints</th>\n",
       "      <th>winPlacePerc</th>\n",
       "    </tr>\n",
       "  </thead>\n",
       "  <tbody>\n",
       "    <tr>\n",
       "      <th>0</th>\n",
       "      <td>0</td>\n",
       "      <td>24</td>\n",
       "      <td>0</td>\n",
       "      <td>0</td>\n",
       "      <td>5</td>\n",
       "      <td>247.30</td>\n",
       "      <td>2</td>\n",
       "      <td>0</td>\n",
       "      <td>4</td>\n",
       "      <td>17</td>\n",
       "      <td>...</td>\n",
       "      <td>1</td>\n",
       "      <td>591.3</td>\n",
       "      <td>0</td>\n",
       "      <td>0.0</td>\n",
       "      <td>0</td>\n",
       "      <td>0</td>\n",
       "      <td>782.40</td>\n",
       "      <td>4</td>\n",
       "      <td>1458</td>\n",
       "      <td>0.8571</td>\n",
       "    </tr>\n",
       "    <tr>\n",
       "      <th>1</th>\n",
       "      <td>1</td>\n",
       "      <td>440875</td>\n",
       "      <td>1</td>\n",
       "      <td>1</td>\n",
       "      <td>0</td>\n",
       "      <td>37.65</td>\n",
       "      <td>1</td>\n",
       "      <td>1</td>\n",
       "      <td>0</td>\n",
       "      <td>45</td>\n",
       "      <td>...</td>\n",
       "      <td>0</td>\n",
       "      <td>0.0</td>\n",
       "      <td>0</td>\n",
       "      <td>0.0</td>\n",
       "      <td>0</td>\n",
       "      <td>0</td>\n",
       "      <td>119.60</td>\n",
       "      <td>3</td>\n",
       "      <td>1511</td>\n",
       "      <td>0.0400</td>\n",
       "    </tr>\n",
       "    <tr>\n",
       "      <th>2</th>\n",
       "      <td>2</td>\n",
       "      <td>878242</td>\n",
       "      <td>2</td>\n",
       "      <td>0</td>\n",
       "      <td>1</td>\n",
       "      <td>93.73</td>\n",
       "      <td>1</td>\n",
       "      <td>0</td>\n",
       "      <td>2</td>\n",
       "      <td>54</td>\n",
       "      <td>...</td>\n",
       "      <td>1</td>\n",
       "      <td>0.0</td>\n",
       "      <td>0</td>\n",
       "      <td>0.0</td>\n",
       "      <td>0</td>\n",
       "      <td>0</td>\n",
       "      <td>3248.00</td>\n",
       "      <td>5</td>\n",
       "      <td>1583</td>\n",
       "      <td>0.7407</td>\n",
       "    </tr>\n",
       "    <tr>\n",
       "      <th>3</th>\n",
       "      <td>3</td>\n",
       "      <td>1319841</td>\n",
       "      <td>3</td>\n",
       "      <td>0</td>\n",
       "      <td>0</td>\n",
       "      <td>95.88</td>\n",
       "      <td>0</td>\n",
       "      <td>0</td>\n",
       "      <td>0</td>\n",
       "      <td>86</td>\n",
       "      <td>...</td>\n",
       "      <td>0</td>\n",
       "      <td>0.0</td>\n",
       "      <td>0</td>\n",
       "      <td>0.0</td>\n",
       "      <td>0</td>\n",
       "      <td>0</td>\n",
       "      <td>21.49</td>\n",
       "      <td>1</td>\n",
       "      <td>1489</td>\n",
       "      <td>0.1146</td>\n",
       "    </tr>\n",
       "    <tr>\n",
       "      <th>4</th>\n",
       "      <td>4</td>\n",
       "      <td>1757883</td>\n",
       "      <td>4</td>\n",
       "      <td>0</td>\n",
       "      <td>1</td>\n",
       "      <td>0.00</td>\n",
       "      <td>0</td>\n",
       "      <td>0</td>\n",
       "      <td>1</td>\n",
       "      <td>58</td>\n",
       "      <td>...</td>\n",
       "      <td>0</td>\n",
       "      <td>0.0</td>\n",
       "      <td>0</td>\n",
       "      <td>0.0</td>\n",
       "      <td>0</td>\n",
       "      <td>0</td>\n",
       "      <td>640.80</td>\n",
       "      <td>4</td>\n",
       "      <td>1475</td>\n",
       "      <td>0.5217</td>\n",
       "    </tr>\n",
       "  </tbody>\n",
       "</table>\n",
       "<p>5 rows × 26 columns</p>\n",
       "</div>"
      ],
      "text/plain": [
       "   Id  groupId  matchId  assists  boosts  damageDealt  DBNOs  headshotKills  \\\n",
       "0   0       24        0        0       5       247.30      2              0   \n",
       "1   1   440875        1        1       0        37.65      1              1   \n",
       "2   2   878242        2        0       1        93.73      1              0   \n",
       "3   3  1319841        3        0       0        95.88      0              0   \n",
       "4   4  1757883        4        0       1         0.00      0              0   \n",
       "\n",
       "   heals  killPlace      ...       revives  rideDistance  roadKills  \\\n",
       "0      4         17      ...             1         591.3          0   \n",
       "1      0         45      ...             0           0.0          0   \n",
       "2      2         54      ...             1           0.0          0   \n",
       "3      0         86      ...             0           0.0          0   \n",
       "4      1         58      ...             0           0.0          0   \n",
       "\n",
       "   swimDistance  teamKills  vehicleDestroys  walkDistance  weaponsAcquired  \\\n",
       "0           0.0          0                0        782.40                4   \n",
       "1           0.0          0                0        119.60                3   \n",
       "2           0.0          0                0       3248.00                5   \n",
       "3           0.0          0                0         21.49                1   \n",
       "4           0.0          0                0        640.80                4   \n",
       "\n",
       "   winPoints  winPlacePerc  \n",
       "0       1458        0.8571  \n",
       "1       1511        0.0400  \n",
       "2       1583        0.7407  \n",
       "3       1489        0.1146  \n",
       "4       1475        0.5217  \n",
       "\n",
       "[5 rows x 26 columns]"
      ]
     },
     "execution_count": 3,
     "metadata": {},
     "output_type": "execute_result"
    }
   ],
   "source": [
    "train_df.head()"
   ]
  },
  {
   "cell_type": "code",
   "execution_count": 4,
   "metadata": {
    "collapsed": false
   },
   "outputs": [
    {
     "name": "stdout",
     "output_type": "stream",
     "text": [
      "<class 'pandas.core.frame.DataFrame'>\n",
      "RangeIndex: 524288 entries, 0 to 524287\n",
      "Data columns (total 26 columns):\n",
      "Id                 524288 non-null int64\n",
      "groupId            524288 non-null int64\n",
      "matchId            524288 non-null int64\n",
      "assists            524288 non-null int64\n",
      "boosts             524288 non-null int64\n",
      "damageDealt        524288 non-null float64\n",
      "DBNOs              524288 non-null int64\n",
      "headshotKills      524288 non-null int64\n",
      "heals              524288 non-null int64\n",
      "killPlace          524288 non-null int64\n",
      "killPoints         524288 non-null int64\n",
      "kills              524288 non-null int64\n",
      "killStreaks        524288 non-null int64\n",
      "longestKill        524288 non-null float64\n",
      "maxPlace           524288 non-null int64\n",
      "numGroups          524288 non-null int64\n",
      "revives            524288 non-null int64\n",
      "rideDistance       524288 non-null float64\n",
      "roadKills          524288 non-null int64\n",
      "swimDistance       524288 non-null float64\n",
      "teamKills          524288 non-null int64\n",
      "vehicleDestroys    524288 non-null int64\n",
      "walkDistance       524288 non-null float64\n",
      "weaponsAcquired    524288 non-null int64\n",
      "winPoints          524288 non-null int64\n",
      "winPlacePerc       524288 non-null float64\n",
      "dtypes: float64(6), int64(20)\n",
      "memory usage: 104.0 MB\n"
     ]
    }
   ],
   "source": [
    "train_df.info()"
   ]
  },
  {
   "cell_type": "code",
   "execution_count": 7,
   "metadata": {
    "collapsed": false
   },
   "outputs": [
    {
     "data": {
      "text/html": [
       "<div>\n",
       "<table border=\"1\" class=\"dataframe\">\n",
       "  <thead>\n",
       "    <tr style=\"text-align: right;\">\n",
       "      <th></th>\n",
       "      <th>Id</th>\n",
       "      <th>groupId</th>\n",
       "      <th>matchId</th>\n",
       "      <th>assists</th>\n",
       "      <th>boosts</th>\n",
       "      <th>damageDealt</th>\n",
       "      <th>DBNOs</th>\n",
       "      <th>headshotKills</th>\n",
       "      <th>heals</th>\n",
       "      <th>killPlace</th>\n",
       "      <th>...</th>\n",
       "      <th>revives</th>\n",
       "      <th>rideDistance</th>\n",
       "      <th>roadKills</th>\n",
       "      <th>swimDistance</th>\n",
       "      <th>teamKills</th>\n",
       "      <th>vehicleDestroys</th>\n",
       "      <th>walkDistance</th>\n",
       "      <th>weaponsAcquired</th>\n",
       "      <th>winPoints</th>\n",
       "      <th>winPlacePerc</th>\n",
       "    </tr>\n",
       "  </thead>\n",
       "  <tbody>\n",
       "    <tr>\n",
       "      <th>count</th>\n",
       "      <td>524288.000000</td>\n",
       "      <td>5.242880e+05</td>\n",
       "      <td>524288.000000</td>\n",
       "      <td>524288.000000</td>\n",
       "      <td>524288.000000</td>\n",
       "      <td>524288.000000</td>\n",
       "      <td>524288.000000</td>\n",
       "      <td>524288.000000</td>\n",
       "      <td>524288.000000</td>\n",
       "      <td>524288.000000</td>\n",
       "      <td>...</td>\n",
       "      <td>524288.000000</td>\n",
       "      <td>524288.000000</td>\n",
       "      <td>524288.000000</td>\n",
       "      <td>524288.000000</td>\n",
       "      <td>524288.000000</td>\n",
       "      <td>524288.000000</td>\n",
       "      <td>524288.000000</td>\n",
       "      <td>524288.000000</td>\n",
       "      <td>524288.000000</td>\n",
       "      <td>524288.000000</td>\n",
       "    </tr>\n",
       "    <tr>\n",
       "      <th>mean</th>\n",
       "      <td>364278.263718</td>\n",
       "      <td>1.023878e+06</td>\n",
       "      <td>23839.980206</td>\n",
       "      <td>0.325197</td>\n",
       "      <td>1.059872</td>\n",
       "      <td>154.532032</td>\n",
       "      <td>0.808096</td>\n",
       "      <td>0.286245</td>\n",
       "      <td>1.311037</td>\n",
       "      <td>43.870131</td>\n",
       "      <td>...</td>\n",
       "      <td>0.183666</td>\n",
       "      <td>466.166687</td>\n",
       "      <td>0.003050</td>\n",
       "      <td>4.193305</td>\n",
       "      <td>0.013659</td>\n",
       "      <td>0.005533</td>\n",
       "      <td>1112.852766</td>\n",
       "      <td>3.668100</td>\n",
       "      <td>1503.962948</td>\n",
       "      <td>0.493065</td>\n",
       "    </tr>\n",
       "    <tr>\n",
       "      <th>std</th>\n",
       "      <td>215779.931009</td>\n",
       "      <td>6.964356e+05</td>\n",
       "      <td>13763.977234</td>\n",
       "      <td>0.748825</td>\n",
       "      <td>1.636570</td>\n",
       "      <td>200.809056</td>\n",
       "      <td>1.417941</td>\n",
       "      <td>0.703561</td>\n",
       "      <td>2.494290</td>\n",
       "      <td>27.585509</td>\n",
       "      <td>...</td>\n",
       "      <td>0.497978</td>\n",
       "      <td>1299.431414</td>\n",
       "      <td>0.065424</td>\n",
       "      <td>27.211284</td>\n",
       "      <td>0.132116</td>\n",
       "      <td>0.077105</td>\n",
       "      <td>1142.268886</td>\n",
       "      <td>2.853992</td>\n",
       "      <td>39.242077</td>\n",
       "      <td>0.312237</td>\n",
       "    </tr>\n",
       "    <tr>\n",
       "      <th>min</th>\n",
       "      <td>0.000000</td>\n",
       "      <td>2.000000e+00</td>\n",
       "      <td>0.000000</td>\n",
       "      <td>0.000000</td>\n",
       "      <td>0.000000</td>\n",
       "      <td>0.000000</td>\n",
       "      <td>0.000000</td>\n",
       "      <td>0.000000</td>\n",
       "      <td>0.000000</td>\n",
       "      <td>1.000000</td>\n",
       "      <td>...</td>\n",
       "      <td>0.000000</td>\n",
       "      <td>0.000000</td>\n",
       "      <td>0.000000</td>\n",
       "      <td>0.000000</td>\n",
       "      <td>0.000000</td>\n",
       "      <td>0.000000</td>\n",
       "      <td>0.000000</td>\n",
       "      <td>0.000000</td>\n",
       "      <td>362.000000</td>\n",
       "      <td>0.000000</td>\n",
       "    </tr>\n",
       "    <tr>\n",
       "      <th>25%</th>\n",
       "      <td>171986.750000</td>\n",
       "      <td>4.740360e+05</td>\n",
       "      <td>11920.750000</td>\n",
       "      <td>0.000000</td>\n",
       "      <td>0.000000</td>\n",
       "      <td>18.000000</td>\n",
       "      <td>0.000000</td>\n",
       "      <td>0.000000</td>\n",
       "      <td>0.000000</td>\n",
       "      <td>20.000000</td>\n",
       "      <td>...</td>\n",
       "      <td>0.000000</td>\n",
       "      <td>0.000000</td>\n",
       "      <td>0.000000</td>\n",
       "      <td>0.000000</td>\n",
       "      <td>0.000000</td>\n",
       "      <td>0.000000</td>\n",
       "      <td>147.300000</td>\n",
       "      <td>2.000000</td>\n",
       "      <td>1493.000000</td>\n",
       "      <td>0.214300</td>\n",
       "    </tr>\n",
       "    <tr>\n",
       "      <th>50%</th>\n",
       "      <td>364429.500000</td>\n",
       "      <td>9.415625e+05</td>\n",
       "      <td>23839.000000</td>\n",
       "      <td>0.000000</td>\n",
       "      <td>0.000000</td>\n",
       "      <td>100.000000</td>\n",
       "      <td>0.000000</td>\n",
       "      <td>0.000000</td>\n",
       "      <td>0.000000</td>\n",
       "      <td>42.000000</td>\n",
       "      <td>...</td>\n",
       "      <td>0.000000</td>\n",
       "      <td>0.000000</td>\n",
       "      <td>0.000000</td>\n",
       "      <td>0.000000</td>\n",
       "      <td>0.000000</td>\n",
       "      <td>0.000000</td>\n",
       "      <td>649.300000</td>\n",
       "      <td>3.000000</td>\n",
       "      <td>1500.000000</td>\n",
       "      <td>0.482800</td>\n",
       "    </tr>\n",
       "    <tr>\n",
       "      <th>75%</th>\n",
       "      <td>556869.250000</td>\n",
       "      <td>1.416606e+06</td>\n",
       "      <td>35759.000000</td>\n",
       "      <td>0.000000</td>\n",
       "      <td>2.000000</td>\n",
       "      <td>207.100000</td>\n",
       "      <td>1.000000</td>\n",
       "      <td>0.000000</td>\n",
       "      <td>2.000000</td>\n",
       "      <td>67.000000</td>\n",
       "      <td>...</td>\n",
       "      <td>0.000000</td>\n",
       "      <td>0.000000</td>\n",
       "      <td>0.000000</td>\n",
       "      <td>0.000000</td>\n",
       "      <td>0.000000</td>\n",
       "      <td>0.000000</td>\n",
       "      <td>1912.000000</td>\n",
       "      <td>5.000000</td>\n",
       "      <td>1513.000000</td>\n",
       "      <td>0.771700</td>\n",
       "    </tr>\n",
       "    <tr>\n",
       "      <th>max</th>\n",
       "      <td>728830.000000</td>\n",
       "      <td>2.700605e+06</td>\n",
       "      <td>47733.000000</td>\n",
       "      <td>16.000000</td>\n",
       "      <td>17.000000</td>\n",
       "      <td>4981.000000</td>\n",
       "      <td>34.000000</td>\n",
       "      <td>23.000000</td>\n",
       "      <td>55.000000</td>\n",
       "      <td>100.000000</td>\n",
       "      <td>...</td>\n",
       "      <td>19.000000</td>\n",
       "      <td>48390.000000</td>\n",
       "      <td>10.000000</td>\n",
       "      <td>1956.000000</td>\n",
       "      <td>6.000000</td>\n",
       "      <td>3.000000</td>\n",
       "      <td>13250.000000</td>\n",
       "      <td>67.000000</td>\n",
       "      <td>1919.000000</td>\n",
       "      <td>1.000000</td>\n",
       "    </tr>\n",
       "  </tbody>\n",
       "</table>\n",
       "<p>8 rows × 26 columns</p>\n",
       "</div>"
      ],
      "text/plain": [
       "                  Id       groupId        matchId        assists  \\\n",
       "count  524288.000000  5.242880e+05  524288.000000  524288.000000   \n",
       "mean   364278.263718  1.023878e+06   23839.980206       0.325197   \n",
       "std    215779.931009  6.964356e+05   13763.977234       0.748825   \n",
       "min         0.000000  2.000000e+00       0.000000       0.000000   \n",
       "25%    171986.750000  4.740360e+05   11920.750000       0.000000   \n",
       "50%    364429.500000  9.415625e+05   23839.000000       0.000000   \n",
       "75%    556869.250000  1.416606e+06   35759.000000       0.000000   \n",
       "max    728830.000000  2.700605e+06   47733.000000      16.000000   \n",
       "\n",
       "              boosts    damageDealt          DBNOs  headshotKills  \\\n",
       "count  524288.000000  524288.000000  524288.000000  524288.000000   \n",
       "mean        1.059872     154.532032       0.808096       0.286245   \n",
       "std         1.636570     200.809056       1.417941       0.703561   \n",
       "min         0.000000       0.000000       0.000000       0.000000   \n",
       "25%         0.000000      18.000000       0.000000       0.000000   \n",
       "50%         0.000000     100.000000       0.000000       0.000000   \n",
       "75%         2.000000     207.100000       1.000000       0.000000   \n",
       "max        17.000000    4981.000000      34.000000      23.000000   \n",
       "\n",
       "               heals      killPlace      ...              revives  \\\n",
       "count  524288.000000  524288.000000      ...        524288.000000   \n",
       "mean        1.311037      43.870131      ...             0.183666   \n",
       "std         2.494290      27.585509      ...             0.497978   \n",
       "min         0.000000       1.000000      ...             0.000000   \n",
       "25%         0.000000      20.000000      ...             0.000000   \n",
       "50%         0.000000      42.000000      ...             0.000000   \n",
       "75%         2.000000      67.000000      ...             0.000000   \n",
       "max        55.000000     100.000000      ...            19.000000   \n",
       "\n",
       "        rideDistance      roadKills   swimDistance      teamKills  \\\n",
       "count  524288.000000  524288.000000  524288.000000  524288.000000   \n",
       "mean      466.166687       0.003050       4.193305       0.013659   \n",
       "std      1299.431414       0.065424      27.211284       0.132116   \n",
       "min         0.000000       0.000000       0.000000       0.000000   \n",
       "25%         0.000000       0.000000       0.000000       0.000000   \n",
       "50%         0.000000       0.000000       0.000000       0.000000   \n",
       "75%         0.000000       0.000000       0.000000       0.000000   \n",
       "max     48390.000000      10.000000    1956.000000       6.000000   \n",
       "\n",
       "       vehicleDestroys   walkDistance  weaponsAcquired      winPoints  \\\n",
       "count    524288.000000  524288.000000    524288.000000  524288.000000   \n",
       "mean          0.005533    1112.852766         3.668100    1503.962948   \n",
       "std           0.077105    1142.268886         2.853992      39.242077   \n",
       "min           0.000000       0.000000         0.000000     362.000000   \n",
       "25%           0.000000     147.300000         2.000000    1493.000000   \n",
       "50%           0.000000     649.300000         3.000000    1500.000000   \n",
       "75%           0.000000    1912.000000         5.000000    1513.000000   \n",
       "max           3.000000   13250.000000        67.000000    1919.000000   \n",
       "\n",
       "        winPlacePerc  \n",
       "count  524288.000000  \n",
       "mean        0.493065  \n",
       "std         0.312237  \n",
       "min         0.000000  \n",
       "25%         0.214300  \n",
       "50%         0.482800  \n",
       "75%         0.771700  \n",
       "max         1.000000  \n",
       "\n",
       "[8 rows x 26 columns]"
      ]
     },
     "execution_count": 7,
     "metadata": {},
     "output_type": "execute_result"
    }
   ],
   "source": [
    "train_df.describe()"
   ]
  },
  {
   "cell_type": "code",
   "execution_count": 11,
   "metadata": {
    "collapsed": false
   },
   "outputs": [
    {
     "data": {
      "image/png": "[encoded data removed]",
      "text/plain": [
       "<Figure size 432x288 with 1 Axes>"
      ]
     },
     "metadata": {},
     "output_type": "display_data"
    }
   ],
   "source": [
    "fig=plt.figure() #Plots in matplotlib reside within a figure object, use plt.figure to create new figure\n",
    "#Create one or more subplots using add_subplot, because you can't create blank figure\n",
    "ax = fig.add_subplot(1,1,1)\n",
    "#Variable\n",
    "ax.hist(train_df['damageDealt'],bins = 3) # Here you can play with number of bins Labels and Tit\n",
    "plt.title('Damage distribution')\n",
    "plt.xlabel('Damage')\n",
    "plt.ylabel('#players')\n",
    "plt.show()"
   ]
  },
  {
   "cell_type": "code",
   "execution_count": 13,
   "metadata": {
    "collapsed": false
   },
   "outputs": [
    {
     "data": {
      "image/png": "[encoded data removed]",
      "text/plain": [
       "<Figure size 432x288 with 1 Axes>"
      ]
     },
     "metadata": {},
     "output_type": "display_data"
    }
   ],
   "source": [
    "fig = plt.figure()\n",
    "ax = fig.add_subplot(1,1,1)\n",
    "ax.scatter(train_df['winPlacePerc'],train_df['damageDealt']) #You can also add more variables here to represent color and size.\n",
    "plt.show()"
   ]
  },
  {
   "cell_type": "code",
   "execution_count": 14,
   "metadata": {
    "collapsed": false
   },
   "outputs": [
    {
     "data": {
      "image/png": "[encoded data removed]",
      "text/plain": [
       "<Figure size 432x288 with 1 Axes>"
      ]
     },
     "metadata": {},
     "output_type": "display_data"
    }
   ],
   "source": [
    "fig = plt.figure()\n",
    "ax = fig.add_subplot(1,1,1)\n",
    "ax.scatter(train_df['winPlacePerc'],train_df['walkDistance']) #You can also add more variables here to represent color and size.\n",
    "plt.show() "
   ]
  },
  {
   "cell_type": "code",
   "execution_count": 23,
   "metadata": {
    "collapsed": false
   },
   "outputs": [
    {
     "data": {
      "image/png": "[encoded data removed]",
      "text/plain": [
       "<Figure size 432x288 with 1 Axes>"
      ]
     },
     "metadata": {},
     "output_type": "display_data"
    }
   ],
   "source": [
    "fig = plt.figure()\n",
    "ax = fig.add_subplot(1,1,1)\n",
    "ax.scatter(train_df['winPlacePerc'],train_df['heals']) #You can also add more variables here to represent color and size.\n",
    "plt.show()  "
   ]
  },
  {
   "cell_type": "code",
   "execution_count": 24,
   "metadata": {
    "collapsed": false
   },
   "outputs": [
    {
     "data": {
      "image/png": "[encoded data removed]",
      "text/plain": [
       "<Figure size 432x288 with 1 Axes>"
      ]
     },
     "metadata": {},
     "output_type": "display_data"
    }
   ],
   "source": [
    "fig = plt.figure()\n",
    "ax = fig.add_subplot(1,1,1)\n",
    "ax.scatter(train_df['winPlacePerc'],train_df['DBNOs']) #You can also add more variables here to represent color and size.\n",
    "plt.show()  "
   ]
  },
  {
   "cell_type": "code",
   "execution_count": 28,
   "metadata": {
    "collapsed": false
   },
   "outputs": [
    {
     "data": {
      "image/png": "[encoded data removed]",
      "text/plain": [
       "<Figure size 432x288 with 1 Axes>"
      ]
     },
     "metadata": {},
     "output_type": "display_data"
    }
   ],
   "source": [
    "fig = plt.figure()\n",
    "ax = fig.add_subplot(1,1,1)\n",
    "ax.scatter(train_df['winPlacePerc'],train_df['headshotKills']) #You can also add more variables here to represent color and size.\n",
    "plt.show()  "
   ]
  },
  {
   "cell_type": "code",
   "execution_count": 32,
   "metadata": {
    "collapsed": false
   },
   "outputs": [
    {
     "data": {
      "image/png": "[encoded data removed]",
      "text/plain": [
       "<Figure size 432x288 with 1 Axes>"
      ]
     },
     "metadata": {},
     "output_type": "display_data"
    }
   ],
   "source": [
    "fig = plt.figure()\n",
    "ax = fig.add_subplot(1,1,1)\n",
    "ax.scatter(train_df['winPlacePerc'],train_df['killPlace']) #You can also add more variables here to represent color and size.\n",
    "plt.show()  "
   ]
  },
  {
   "cell_type": "code",
   "execution_count": null,
   "metadata": {
    "collapsed": true
   },
   "outputs": [],
   "source": []
  }
 ],
 "metadata": {
  "anaconda-cloud": {},
  "kernelspec": {
   "display_name": "Python 3",
   "language": "python",
   "name": "python3"
  },
  "language_info": {
   "codemirror_mode": {
    "name": "ipython",
    "version": 3
   },
   "file_extension": ".py",
   "mimetype": "text/x-python",
   "name": "python",
   "nbconvert_exporter": "python",
   "pygments_lexer": "ipython3",
   "version": "3.5.2"
  }
 },
 "nbformat": 4,
 "nbformat_minor": 1
}
